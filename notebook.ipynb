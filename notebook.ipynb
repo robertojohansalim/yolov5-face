{
 "cells": [
  {
   "cell_type": "markdown",
   "metadata": {},
   "source": [
    "## Torch Model"
   ]
  },
  {
   "cell_type": "code",
   "execution_count": 25,
   "metadata": {},
   "outputs": [
    {
     "name": "stdout",
     "output_type": "stream",
     "text": [
      "Fusing layers... \n",
      "(1, 3, 640, 640)\n"
     ]
    },
    {
     "ename": "TypeError",
     "evalue": "conv2d() received an invalid combination of arguments - got (numpy.ndarray, Parameter, Parameter, tuple, tuple, tuple, int), but expected one of:\n * (Tensor input, Tensor weight, Tensor bias, tuple of ints stride, tuple of ints padding, tuple of ints dilation, int groups)\n      didn't match because some of the arguments have invalid types: (!numpy.ndarray!, !Parameter!, !Parameter!, !tuple!, !tuple!, !tuple!, int)\n * (Tensor input, Tensor weight, Tensor bias, tuple of ints stride, str padding, tuple of ints dilation, int groups)\n      didn't match because some of the arguments have invalid types: (!numpy.ndarray!, !Parameter!, !Parameter!, !tuple!, !tuple!, !tuple!, int)\n",
     "output_type": "error",
     "traceback": [
      "\u001b[0;31m---------------------------------------------------------------------------\u001b[0m",
      "\u001b[0;31mTypeError\u001b[0m                                 Traceback (most recent call last)",
      "Cell \u001b[0;32mIn[25], line 73\u001b[0m\n\u001b[1;32m     71\u001b[0m     \u001b[39mif\u001b[39;00m \u001b[39misinstance\u001b[39m(m, nn\u001b[39m.\u001b[39mUpsample):\n\u001b[1;32m     72\u001b[0m         m\u001b[39m.\u001b[39mrecompute_scale_factor \u001b[39m=\u001b[39m \u001b[39mNone\u001b[39;00m\n\u001b[0;32m---> 73\u001b[0m y \u001b[39m=\u001b[39m model(img) \n",
      "File \u001b[0;32m/opt/homebrew/Caskroom/miniforge/base/envs/research/lib/python3.9/site-packages/torch/nn/modules/module.py:1190\u001b[0m, in \u001b[0;36mModule._call_impl\u001b[0;34m(self, *input, **kwargs)\u001b[0m\n\u001b[1;32m   1186\u001b[0m \u001b[39m# If we don't have any hooks, we want to skip the rest of the logic in\u001b[39;00m\n\u001b[1;32m   1187\u001b[0m \u001b[39m# this function, and just call forward.\u001b[39;00m\n\u001b[1;32m   1188\u001b[0m \u001b[39mif\u001b[39;00m \u001b[39mnot\u001b[39;00m (\u001b[39mself\u001b[39m\u001b[39m.\u001b[39m_backward_hooks \u001b[39mor\u001b[39;00m \u001b[39mself\u001b[39m\u001b[39m.\u001b[39m_forward_hooks \u001b[39mor\u001b[39;00m \u001b[39mself\u001b[39m\u001b[39m.\u001b[39m_forward_pre_hooks \u001b[39mor\u001b[39;00m _global_backward_hooks\n\u001b[1;32m   1189\u001b[0m         \u001b[39mor\u001b[39;00m _global_forward_hooks \u001b[39mor\u001b[39;00m _global_forward_pre_hooks):\n\u001b[0;32m-> 1190\u001b[0m     \u001b[39mreturn\u001b[39;00m forward_call(\u001b[39m*\u001b[39;49m\u001b[39minput\u001b[39;49m, \u001b[39m*\u001b[39;49m\u001b[39m*\u001b[39;49mkwargs)\n\u001b[1;32m   1191\u001b[0m \u001b[39m# Do not call functions when jit is used\u001b[39;00m\n\u001b[1;32m   1192\u001b[0m full_backward_hooks, non_full_backward_hooks \u001b[39m=\u001b[39m [], []\n",
      "File \u001b[0;32m~/Desktop/WORKSPACE/THESIS/other_repo/YOLO/yolov5-face/models/yolo.py:147\u001b[0m, in \u001b[0;36mModel.forward\u001b[0;34m(self, x, augment, profile)\u001b[0m\n\u001b[1;32m    145\u001b[0m     \u001b[39mreturn\u001b[39;00m torch\u001b[39m.\u001b[39mcat(y, \u001b[39m1\u001b[39m), \u001b[39mNone\u001b[39;00m  \u001b[39m# augmented inference, train\u001b[39;00m\n\u001b[1;32m    146\u001b[0m \u001b[39melse\u001b[39;00m:\n\u001b[0;32m--> 147\u001b[0m     \u001b[39mreturn\u001b[39;00m \u001b[39mself\u001b[39;49m\u001b[39m.\u001b[39;49mforward_once(x, profile)\n",
      "File \u001b[0;32m~/Desktop/WORKSPACE/THESIS/other_repo/YOLO/yolov5-face/models/yolo.py:163\u001b[0m, in \u001b[0;36mModel.forward_once\u001b[0;34m(self, x, profile)\u001b[0m\n\u001b[1;32m    160\u001b[0m         dt\u001b[39m.\u001b[39mappend((time_synchronized() \u001b[39m-\u001b[39m t) \u001b[39m*\u001b[39m \u001b[39m100\u001b[39m)\n\u001b[1;32m    161\u001b[0m         \u001b[39mprint\u001b[39m(\u001b[39m'\u001b[39m\u001b[39m%10.1f\u001b[39;00m\u001b[39m%10.0f\u001b[39;00m\u001b[39m%10.1f\u001b[39;00m\u001b[39mms \u001b[39m\u001b[39m%-40s\u001b[39;00m\u001b[39m'\u001b[39m \u001b[39m%\u001b[39m (o, m\u001b[39m.\u001b[39mnp, dt[\u001b[39m-\u001b[39m\u001b[39m1\u001b[39m], m\u001b[39m.\u001b[39mtype))\n\u001b[0;32m--> 163\u001b[0m     x \u001b[39m=\u001b[39m m(x)  \u001b[39m# run\u001b[39;00m\n\u001b[1;32m    164\u001b[0m     y\u001b[39m.\u001b[39mappend(x \u001b[39mif\u001b[39;00m m\u001b[39m.\u001b[39mi \u001b[39min\u001b[39;00m \u001b[39mself\u001b[39m\u001b[39m.\u001b[39msave \u001b[39melse\u001b[39;00m \u001b[39mNone\u001b[39;00m)  \u001b[39m# save output\u001b[39;00m\n\u001b[1;32m    166\u001b[0m \u001b[39mif\u001b[39;00m profile:\n",
      "File \u001b[0;32m/opt/homebrew/Caskroom/miniforge/base/envs/research/lib/python3.9/site-packages/torch/nn/modules/module.py:1190\u001b[0m, in \u001b[0;36mModule._call_impl\u001b[0;34m(self, *input, **kwargs)\u001b[0m\n\u001b[1;32m   1186\u001b[0m \u001b[39m# If we don't have any hooks, we want to skip the rest of the logic in\u001b[39;00m\n\u001b[1;32m   1187\u001b[0m \u001b[39m# this function, and just call forward.\u001b[39;00m\n\u001b[1;32m   1188\u001b[0m \u001b[39mif\u001b[39;00m \u001b[39mnot\u001b[39;00m (\u001b[39mself\u001b[39m\u001b[39m.\u001b[39m_backward_hooks \u001b[39mor\u001b[39;00m \u001b[39mself\u001b[39m\u001b[39m.\u001b[39m_forward_hooks \u001b[39mor\u001b[39;00m \u001b[39mself\u001b[39m\u001b[39m.\u001b[39m_forward_pre_hooks \u001b[39mor\u001b[39;00m _global_backward_hooks\n\u001b[1;32m   1189\u001b[0m         \u001b[39mor\u001b[39;00m _global_forward_hooks \u001b[39mor\u001b[39;00m _global_forward_pre_hooks):\n\u001b[0;32m-> 1190\u001b[0m     \u001b[39mreturn\u001b[39;00m forward_call(\u001b[39m*\u001b[39;49m\u001b[39minput\u001b[39;49m, \u001b[39m*\u001b[39;49m\u001b[39m*\u001b[39;49mkwargs)\n\u001b[1;32m   1191\u001b[0m \u001b[39m# Do not call functions when jit is used\u001b[39;00m\n\u001b[1;32m   1192\u001b[0m full_backward_hooks, non_full_backward_hooks \u001b[39m=\u001b[39m [], []\n",
      "File \u001b[0;32m~/Desktop/WORKSPACE/THESIS/other_repo/YOLO/yolov5-face/models/common.py:51\u001b[0m, in \u001b[0;36mConv.fuseforward\u001b[0;34m(self, x)\u001b[0m\n\u001b[1;32m     50\u001b[0m \u001b[39mdef\u001b[39;00m \u001b[39mfuseforward\u001b[39m(\u001b[39mself\u001b[39m, x):\n\u001b[0;32m---> 51\u001b[0m     \u001b[39mreturn\u001b[39;00m \u001b[39mself\u001b[39m\u001b[39m.\u001b[39mact(\u001b[39mself\u001b[39;49m\u001b[39m.\u001b[39;49mconv(x))\n",
      "File \u001b[0;32m/opt/homebrew/Caskroom/miniforge/base/envs/research/lib/python3.9/site-packages/torch/nn/modules/module.py:1190\u001b[0m, in \u001b[0;36mModule._call_impl\u001b[0;34m(self, *input, **kwargs)\u001b[0m\n\u001b[1;32m   1186\u001b[0m \u001b[39m# If we don't have any hooks, we want to skip the rest of the logic in\u001b[39;00m\n\u001b[1;32m   1187\u001b[0m \u001b[39m# this function, and just call forward.\u001b[39;00m\n\u001b[1;32m   1188\u001b[0m \u001b[39mif\u001b[39;00m \u001b[39mnot\u001b[39;00m (\u001b[39mself\u001b[39m\u001b[39m.\u001b[39m_backward_hooks \u001b[39mor\u001b[39;00m \u001b[39mself\u001b[39m\u001b[39m.\u001b[39m_forward_hooks \u001b[39mor\u001b[39;00m \u001b[39mself\u001b[39m\u001b[39m.\u001b[39m_forward_pre_hooks \u001b[39mor\u001b[39;00m _global_backward_hooks\n\u001b[1;32m   1189\u001b[0m         \u001b[39mor\u001b[39;00m _global_forward_hooks \u001b[39mor\u001b[39;00m _global_forward_pre_hooks):\n\u001b[0;32m-> 1190\u001b[0m     \u001b[39mreturn\u001b[39;00m forward_call(\u001b[39m*\u001b[39;49m\u001b[39minput\u001b[39;49m, \u001b[39m*\u001b[39;49m\u001b[39m*\u001b[39;49mkwargs)\n\u001b[1;32m   1191\u001b[0m \u001b[39m# Do not call functions when jit is used\u001b[39;00m\n\u001b[1;32m   1192\u001b[0m full_backward_hooks, non_full_backward_hooks \u001b[39m=\u001b[39m [], []\n",
      "File \u001b[0;32m/opt/homebrew/Caskroom/miniforge/base/envs/research/lib/python3.9/site-packages/torch/nn/modules/conv.py:463\u001b[0m, in \u001b[0;36mConv2d.forward\u001b[0;34m(self, input)\u001b[0m\n\u001b[1;32m    462\u001b[0m \u001b[39mdef\u001b[39;00m \u001b[39mforward\u001b[39m(\u001b[39mself\u001b[39m, \u001b[39minput\u001b[39m: Tensor) \u001b[39m-\u001b[39m\u001b[39m>\u001b[39m Tensor:\n\u001b[0;32m--> 463\u001b[0m     \u001b[39mreturn\u001b[39;00m \u001b[39mself\u001b[39;49m\u001b[39m.\u001b[39;49m_conv_forward(\u001b[39minput\u001b[39;49m, \u001b[39mself\u001b[39;49m\u001b[39m.\u001b[39;49mweight, \u001b[39mself\u001b[39;49m\u001b[39m.\u001b[39;49mbias)\n",
      "File \u001b[0;32m/opt/homebrew/Caskroom/miniforge/base/envs/research/lib/python3.9/site-packages/torch/nn/modules/conv.py:459\u001b[0m, in \u001b[0;36mConv2d._conv_forward\u001b[0;34m(self, input, weight, bias)\u001b[0m\n\u001b[1;32m    455\u001b[0m \u001b[39mif\u001b[39;00m \u001b[39mself\u001b[39m\u001b[39m.\u001b[39mpadding_mode \u001b[39m!=\u001b[39m \u001b[39m'\u001b[39m\u001b[39mzeros\u001b[39m\u001b[39m'\u001b[39m:\n\u001b[1;32m    456\u001b[0m     \u001b[39mreturn\u001b[39;00m F\u001b[39m.\u001b[39mconv2d(F\u001b[39m.\u001b[39mpad(\u001b[39minput\u001b[39m, \u001b[39mself\u001b[39m\u001b[39m.\u001b[39m_reversed_padding_repeated_twice, mode\u001b[39m=\u001b[39m\u001b[39mself\u001b[39m\u001b[39m.\u001b[39mpadding_mode),\n\u001b[1;32m    457\u001b[0m                     weight, bias, \u001b[39mself\u001b[39m\u001b[39m.\u001b[39mstride,\n\u001b[1;32m    458\u001b[0m                     _pair(\u001b[39m0\u001b[39m), \u001b[39mself\u001b[39m\u001b[39m.\u001b[39mdilation, \u001b[39mself\u001b[39m\u001b[39m.\u001b[39mgroups)\n\u001b[0;32m--> 459\u001b[0m \u001b[39mreturn\u001b[39;00m F\u001b[39m.\u001b[39;49mconv2d(\u001b[39minput\u001b[39;49m, weight, bias, \u001b[39mself\u001b[39;49m\u001b[39m.\u001b[39;49mstride,\n\u001b[1;32m    460\u001b[0m                 \u001b[39mself\u001b[39;49m\u001b[39m.\u001b[39;49mpadding, \u001b[39mself\u001b[39;49m\u001b[39m.\u001b[39;49mdilation, \u001b[39mself\u001b[39;49m\u001b[39m.\u001b[39;49mgroups)\n",
      "\u001b[0;31mTypeError\u001b[0m: conv2d() received an invalid combination of arguments - got (numpy.ndarray, Parameter, Parameter, tuple, tuple, tuple, int), but expected one of:\n * (Tensor input, Tensor weight, Tensor bias, tuple of ints stride, tuple of ints padding, tuple of ints dilation, int groups)\n      didn't match because some of the arguments have invalid types: (!numpy.ndarray!, !Parameter!, !Parameter!, !tuple!, !tuple!, !tuple!, int)\n * (Tensor input, Tensor weight, Tensor bias, tuple of ints stride, str padding, tuple of ints dilation, int groups)\n      didn't match because some of the arguments have invalid types: (!numpy.ndarray!, !Parameter!, !Parameter!, !tuple!, !tuple!, !tuple!, int)\n"
     ]
    }
   ],
   "source": [
    "import cv2\n",
    "import numpy as np\n",
    "import argparse\n",
    "import sys\n",
    "import time\n",
    "\n",
    "sys.path.append('./')  # to run '$ python *.py' files in subdirectories\n",
    "\n",
    "import torch\n",
    "import torch.nn as nn\n",
    "\n",
    "import models\n",
    "from models.experimental import attempt_load\n",
    "from utils.activations import Hardswish, SiLU\n",
    "from utils.general import set_logging, check_img_size\n",
    "# from torch import onnx\n",
    "import onnx\n",
    "\n",
    "img_size = (640, 640)\n",
    "\n",
    "model = attempt_load(\"weights/yolov5s.pt\", map_location=torch.device('cpu'))  # load FP32 model\n",
    "delattr(model.model[-1], 'anchor_grid')\n",
    "model.model[-1].anchor_grid=[torch.zeros(1)] * 3 # nl=3 number of detection layers\n",
    "model.model[-1].export_cat = True\n",
    "model.eval()\n",
    "labels = model.names\n",
    "\n",
    "# Checks\n",
    "gs = int(max(model.stride))  # grid size (max stride)\n",
    "img_size = [check_img_size(x, gs) for x in img_size]  # verify img_size are gs-multiples\n",
    "\n",
    "# Input\n",
    "img_path = \"../../../thesis_exportable_module/images/test_images/Masked.png\"\n",
    "\n",
    "input_img = cv2.imread(img_path)\n",
    "# input_img = cv2.resize(input_img, img_size)\n",
    "# img = np.array(input_img.astype(np.float32))\n",
    "mean = np.array([0.485, 0.456, 0.406]) * 255.0\n",
    "scale = 1 / 255.0\n",
    "std = [0.229, 0.224, 0.225]\n",
    "img = cv2.dnn.blobFromImage(\n",
    "    image=input_img,\n",
    "    scalefactor=scale,\n",
    "    size=(640, 640),  # img target size\n",
    "    mean=mean,\n",
    "    swapRB=True,  # BGR -> RGB\n",
    "    crop=True  # center crop\n",
    ")\n",
    "print(img.shape)\n",
    "\n",
    "# img = torch.zeros(1, 3, *img_size)  # image size(1,3,320,192) iDetection\n",
    "# print(img.shape)\n",
    "\n",
    "# Update model\n",
    "for k, m in model.named_modules():\n",
    "    m._non_persistent_buffers_set = set()  # pytorch 1.6.0 compatibility\n",
    "    if isinstance(m, models.common.Conv):  # assign export-friendly activations\n",
    "        if isinstance(m.act, nn.Hardswish):\n",
    "            m.act = Hardswish()\n",
    "        elif isinstance(m.act, nn.SiLU):\n",
    "            m.act = SiLU()\n",
    "    # elif isinstance(m, models.yolo.Detect):\n",
    "    #     m.forward = m.forward_export  # assign forward (optional)\n",
    "    if isinstance(m, models.common.ShuffleV2Block):#shufflenet block nn.SiLU\n",
    "        for i in range(len(m.branch1)):\n",
    "            if isinstance(m.branch1[i], nn.SiLU):\n",
    "                m.branch1[i] = SiLU()\n",
    "        for i in range(len(m.branch2)):\n",
    "            if isinstance(m.branch2[i], nn.SiLU):\n",
    "                m.branch2[i] = SiLU()\n",
    "    if isinstance(m, nn.Upsample):\n",
    "        m.recompute_scale_factor = None\n",
    "y = model(img) "
   ]
  },
  {
   "cell_type": "markdown",
   "metadata": {},
   "source": [
    "## CV2 Inference"
   ]
  },
  {
   "cell_type": "code",
   "execution_count": 14,
   "metadata": {},
   "outputs": [],
   "source": [
    "import cv2\n",
    "\n",
    "full_model_path = \"./weights/yolov5s.onnx\"\n",
    "opencv_net = cv2.dnn.readNetFromONNX(full_model_path)"
   ]
  },
  {
   "cell_type": "code",
   "execution_count": 22,
   "metadata": {},
   "outputs": [
    {
     "name": "stdout",
     "output_type": "stream",
     "text": [
      "input blob (1, 3, 640, 640)\n",
      "OpenCV DNN prediction: \n",
      "\n",
      "* shape:  (1, 25200, 85)\n",
      "[[[     3.0206      3.2279      8.3343 ...   0.0026812  0.00083698   0.0037202]\n",
      "  [     12.004      3.8817      23.399 ...   0.0025475   0.0011141   0.0035167]\n",
      "  [     18.029      3.9822      29.994 ...   0.0028336   0.0010802   0.0036389]\n",
      "  ...\n",
      "  [        571      602.34      138.69 ...  0.00093788  0.00089743  0.00076715]\n",
      "  [     580.93      605.21      118.05 ...   0.0011593  0.00081392  0.00078583]\n",
      "  [     617.62       617.8      131.52 ...   0.0016312  0.00099089   0.0010197]]]\n",
      "(1, 25200, 85)\n"
     ]
    }
   ],
   "source": [
    "import numpy as np\n",
    "img_path = \"../../../thesis_exportable_module/images/test_images/Masked.png\"\n",
    "\n",
    "input_img = cv2.imread(img_path)\n",
    "input_img = input_img.astype(np.float32)\n",
    "\n",
    "mean = np.array([0.485, 0.456, 0.406]) * 255.0\n",
    "scale = 1 / 255.0\n",
    "std = [0.229, 0.224, 0.225]\n",
    "\n",
    "input_blob = cv2.dnn.blobFromImage(\n",
    "    image=input_img,\n",
    "    scalefactor=scale,\n",
    "    size=(640, 640),  # img target size\n",
    "    mean=mean,\n",
    "    swapRB=True,  # BGR -> RGB\n",
    "    crop=True  # center crop\n",
    ")\n",
    "\n",
    "print(\"input blob\", input_blob.shape)\n",
    "\n",
    "# set OpenCV DNN input\n",
    "opencv_net.setInput(input_blob)\n",
    "# OpenCV DNN inference\n",
    "out = opencv_net.forward()\n",
    "print(\"OpenCV DNN prediction: \\n\")\n",
    "print(\"* shape: \", out.shape)\n",
    "# get the predicted class ID\n",
    "imagenet_class_id = np.argmax(out)\n",
    "\n",
    "print(out)\n",
    "print(out.shape)\n",
    "# get confidence\n",
    "# confidence = out[0][imagenet_class_id]\n",
    "# print(\"* class ID: {}, label: {}\".format(imagenet_class_id, imagenet_labels[imagenet_class_id]))\n",
    "# print(\"* confidence: {:.4f}\".format(confidence))"
   ]
  },
  {
   "cell_type": "code",
   "execution_count": 17,
   "metadata": {},
   "outputs": [
    {
     "ename": "IndexError",
     "evalue": "tuple index out of range",
     "output_type": "error",
     "traceback": [
      "\u001b[0;31m---------------------------------------------------------------------------\u001b[0m",
      "\u001b[0;31mIndexError\u001b[0m                                Traceback (most recent call last)",
      "Cell \u001b[0;32mIn[17], line 8\u001b[0m\n\u001b[1;32m      6\u001b[0m iou_thres \u001b[39m=\u001b[39m \u001b[39m0.5\u001b[39m\n\u001b[1;32m      7\u001b[0m imgsz\u001b[39m=\u001b[39m(\u001b[39m640\u001b[39m, \u001b[39m640\u001b[39m)\n\u001b[0;32m----> 8\u001b[0m pred \u001b[39m=\u001b[39m non_max_suppression_face(pred, conf_thres, iou_thres)\n\u001b[1;32m      9\u001b[0m \u001b[39mprint\u001b[39m(\u001b[39mlen\u001b[39m(pred[\u001b[39m0\u001b[39m]), \u001b[39m'\u001b[39m\u001b[39mface\u001b[39m\u001b[39m'\u001b[39m \u001b[39mif\u001b[39;00m \u001b[39mlen\u001b[39m(pred[\u001b[39m0\u001b[39m]) \u001b[39m==\u001b[39m \u001b[39m1\u001b[39m \u001b[39melse\u001b[39;00m \u001b[39m'\u001b[39m\u001b[39mfaces\u001b[39m\u001b[39m'\u001b[39m)\n",
      "File \u001b[0;32m~/Desktop/WORKSPACE/THESIS/other_repo/YOLO/yolov5-face/utils/general.py:385\u001b[0m, in \u001b[0;36mnon_max_suppression_face\u001b[0;34m(prediction, conf_thres, iou_thres, classes, agnostic, labels)\u001b[0m\n\u001b[1;32m    379\u001b[0m \u001b[39mdef\u001b[39;00m \u001b[39mnon_max_suppression_face\u001b[39m(prediction, conf_thres\u001b[39m=\u001b[39m\u001b[39m0.25\u001b[39m, iou_thres\u001b[39m=\u001b[39m\u001b[39m0.45\u001b[39m, classes\u001b[39m=\u001b[39m\u001b[39mNone\u001b[39;00m, agnostic\u001b[39m=\u001b[39m\u001b[39mFalse\u001b[39;00m, labels\u001b[39m=\u001b[39m()):\n\u001b[1;32m    380\u001b[0m     \u001b[39m\"\"\"Performs Non-Maximum Suppression (NMS) on inference results\u001b[39;00m\n\u001b[1;32m    381\u001b[0m \u001b[39m    Returns:\u001b[39;00m\n\u001b[1;32m    382\u001b[0m \u001b[39m         detections with shape: nx6 (x1, y1, x2, y2, conf, cls)\u001b[39;00m\n\u001b[1;32m    383\u001b[0m \u001b[39m    \"\"\"\u001b[39;00m\n\u001b[0;32m--> 385\u001b[0m     nc \u001b[39m=\u001b[39m prediction\u001b[39m.\u001b[39;49mshape[\u001b[39m2\u001b[39;49m] \u001b[39m-\u001b[39m \u001b[39m15\u001b[39m  \u001b[39m# number of classes\u001b[39;00m\n\u001b[1;32m    386\u001b[0m     xc \u001b[39m=\u001b[39m prediction[\u001b[39m.\u001b[39m\u001b[39m.\u001b[39m\u001b[39m.\u001b[39m, \u001b[39m4\u001b[39m] \u001b[39m>\u001b[39m conf_thres  \u001b[39m# candidates\u001b[39;00m\n\u001b[1;32m    388\u001b[0m     \u001b[39m# Settings\u001b[39;00m\n",
      "\u001b[0;31mIndexError\u001b[0m: tuple index out of range"
     ]
    }
   ],
   "source": [
    "# inference of prediction\n",
    "from utils.general import non_max_suppression_face\n",
    "pred = out[0]\n",
    "img_size = 640\n",
    "conf_thres = 0.6\n",
    "iou_thres = 0.5\n",
    "imgsz=(640, 640)\n",
    "pred = non_max_suppression_face(pred, conf_thres, iou_thres)\n",
    "print(len(pred[0]), 'face' if len(pred[0]) == 1 else 'faces')"
   ]
  }
 ],
 "metadata": {
  "kernelspec": {
   "display_name": "Python 3.9.15 ('research')",
   "language": "python",
   "name": "python3"
  },
  "language_info": {
   "codemirror_mode": {
    "name": "ipython",
    "version": 3
   },
   "file_extension": ".py",
   "mimetype": "text/x-python",
   "name": "python",
   "nbconvert_exporter": "python",
   "pygments_lexer": "ipython3",
   "version": "3.9.15"
  },
  "orig_nbformat": 4,
  "vscode": {
   "interpreter": {
    "hash": "906218519217ffe9f1510e367b653c91b03982f1d5d8f447508680143cf14f4f"
   }
  }
 },
 "nbformat": 4,
 "nbformat_minor": 2
}
